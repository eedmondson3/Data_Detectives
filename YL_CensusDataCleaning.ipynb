{
 "cells": [
  {
   "cell_type": "code",
   "execution_count": null,
   "metadata": {},
   "outputs": [],
   "source": [
    "# Import dependencies\n",
    "import pandas as pd"
   ]
  },
  {
   "cell_type": "code",
   "execution_count": null,
   "metadata": {},
   "outputs": [],
   "source": [
    "census_file = \"Original_Data_Sets/Census_2020_income.csv\"\n",
    "census_file_df = pd.read_csv(census_file, encoding=\"UTF-8\")\n",
    "census_file_df = census_file_df.dropna()\n",
    "census_file_df.head()"
   ]
  },
  {
   "cell_type": "code",
   "execution_count": null,
   "metadata": {},
   "outputs": [],
   "source": [
    "index_list = [0]\n",
    "n = 1\n",
    "\n",
    "for x in range(39):\n",
    "    n = n + 8\n",
    "    index_list.append(n)"
   ]
  },
  {
   "cell_type": "code",
   "execution_count": null,
   "metadata": {},
   "outputs": [],
   "source": [
    "census_file_cleaned_df = census_file_df.iloc[:, index_list].copy()\n",
    "census_file_cleaned_df.head(20)"
   ]
  },
  {
   "cell_type": "code",
   "execution_count": null,
   "metadata": {},
   "outputs": [],
   "source": [
    "census_income_draft_df = census_file_cleaned_df.set_index(census_file_cleaned_df[\"Label (Grouping)\"])\n",
    "census_income_draft_df.drop(columns=[\"Label (Grouping)\"], inplace=True)\n",
    "census_income_draft_df = census_income_draft_df.rename_axis(None)\n",
    "census_income_draft_df.head()"
   ]
  },
  {
   "cell_type": "code",
   "execution_count": null,
   "metadata": {},
   "outputs": [],
   "source": [
    "census_income_df = census_income_draft_df.transpose()\n",
    "census_income_df = census_income_df[[\"Median income (dollars)\"]]\n",
    "census_income_df = census_income_df.reset_index()\n",
    "census_income_df[\"index\"] = census_income_df[\"index\"].str.strip(\",\")\n",
    "county_split = census_income_df[\"index\"].str.split(\" \", n=1, expand=True)\n",
    "census_income_df[\"index\"] = county_split[0]\n",
    "census_income_df = census_income_df.rename(columns={\"index\":\"County\"})\n",
    "census_income_df = census_income_df.set_index(census_income_df[\"County\"])\n",
    "census_income_df.drop(columns=[\"County\"], inplace=True)\n",
    "census_income_df.head()"
   ]
  },
  {
   "cell_type": "code",
   "execution_count": null,
   "metadata": {},
   "outputs": [],
   "source": [
    "census_income_df[\"Median income (dollars)\"] = census_income_df[\"Median income (dollars)\"].str.replace(\",\",\"\")\n",
    "census_income_df[\"Median income (dollars)\"] = census_income_df[\"Median income (dollars)\"].astype(\"int64\")\n",
    "census_income_df.head()"
   ]
  },
  {
   "cell_type": "code",
   "execution_count": null,
   "metadata": {},
   "outputs": [],
   "source": [
    "census_income_df.to_csv(\"Cleaned_Data_Sets/Cleaned_Census_Income_Data.csv\", index=True, header=True)"
   ]
  }
 ],
 "metadata": {
  "kernelspec": {
   "display_name": "base",
   "language": "python",
   "name": "python3"
  },
  "language_info": {
   "codemirror_mode": {
    "name": "ipython",
    "version": 3
   },
   "file_extension": ".py",
   "mimetype": "text/x-python",
   "name": "python",
   "nbconvert_exporter": "python",
   "pygments_lexer": "ipython3",
   "version": "3.10.9"
  },
  "orig_nbformat": 4
 },
 "nbformat": 4,
 "nbformat_minor": 2
}
