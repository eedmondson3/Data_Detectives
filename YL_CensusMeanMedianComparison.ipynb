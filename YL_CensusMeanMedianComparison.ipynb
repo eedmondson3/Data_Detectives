{
 "cells": [
  {
   "cell_type": "code",
   "execution_count": null,
   "metadata": {},
   "outputs": [],
   "source": [
    "import pandas as pd\n",
    "import matplotlib.pyplot as plt\n",
    "import numpy as np "
   ]
  },
  {
   "cell_type": "code",
   "execution_count": null,
   "metadata": {},
   "outputs": [],
   "source": [
    "census_file = \"Original_Data_Sets/Census_2020_income.csv\"\n",
    "census_file_df = pd.read_csv(census_file, encoding=\"UTF-8\")\n",
    "census_file_df = census_file_df.dropna()\n",
    "census_file_df.head()"
   ]
  },
  {
   "cell_type": "code",
   "execution_count": null,
   "metadata": {},
   "outputs": [],
   "source": [
    "SE_index_list = [0]\n",
    "n = 2\n",
    "\n",
    "for x in range(39):\n",
    "    n = n + 8\n",
    "    SE_index_list.append(n)\n"
   ]
  },
  {
   "cell_type": "code",
   "execution_count": null,
   "metadata": {},
   "outputs": [],
   "source": [
    "census_file_se_df = census_file_df.iloc[[11,12], SE_index_list].copy()\n",
    "census_file_se_df = census_file_se_df.set_index(census_file_se_df[\"Label (Grouping)\"])\n",
    "census_file_se_df.drop(columns=[\"Label (Grouping)\"], inplace=True)\n",
    "census_file_se_df = census_file_se_df.rename_axis(None)\n",
    "\n",
    "census_file_se_df.head()"
   ]
  },
  {
   "cell_type": "code",
   "execution_count": null,
   "metadata": {},
   "outputs": [],
   "source": [
    "census_se_df = census_file_se_df.transpose()\n",
    "census_se_df = census_se_df.reset_index()\n",
    "census_se_df[\"index\"] = census_se_df[\"index\"].str.strip(\",\")\n",
    "county_split = census_se_df[\"index\"].str.split(\" \", n=1, expand=True)\n",
    "census_se_df[\"index\"] = county_split[0]\n",
    "census_se_df = census_se_df.rename(columns={\"index\":\"County\"})\n",
    "census_se_df = census_se_df.set_index(census_se_df[\"County\"])\n",
    "census_se_df.drop(columns=[\"County\"], inplace=True)\n",
    "\n",
    "census_se_df.head(10)"
   ]
  },
  {
   "cell_type": "code",
   "execution_count": null,
   "metadata": {},
   "outputs": [],
   "source": [
    "census_se_df[\"Median income (dollars)\"] = census_se_df[\"Median income (dollars)\"].str.replace(\"±\",\"\")\n",
    "census_se_df[\"Median income (dollars)\"] = census_se_df[\"Median income (dollars)\"].str.replace(\",\",\"\")\n",
    "census_se_df[\"Mean income (dollars)\"] = census_se_df[\"Mean income (dollars)\"].str.replace(\"±\",\"\")\n",
    "census_se_df[\"Mean income (dollars)\"] = census_se_df[\"Mean income (dollars)\"].str.replace(\",\",\"\")\n",
    "\n",
    "census_se_df[\"Median income (dollars)\"] = census_se_df[\"Median income (dollars)\"].astype(\"int64\")\n",
    "census_se_df[\"Mean income (dollars)\"] = census_se_df[\"Mean income (dollars)\"].astype(\"int64\")\n",
    "\n",
    "census_se_df.dtypes"
   ]
  },
  {
   "cell_type": "code",
   "execution_count": null,
   "metadata": {},
   "outputs": [],
   "source": [
    "median_me_mean = census_se_df[\"Median income (dollars)\"].mean(numeric_only=True)\n",
    "median_me_median = census_se_df[\"Median income (dollars)\"].median(numeric_only=True)\n",
    "mean_me_mean = census_se_df[\"Mean income (dollars)\"].mean(numeric_only=True)\n",
    "mean_me_median = census_se_df[\"Mean income (dollars)\"].median(numeric_only=True)"
   ]
  },
  {
   "cell_type": "code",
   "execution_count": null,
   "metadata": {},
   "outputs": [],
   "source": [
    "median = [median_me_median, mean_me_median]\n",
    "mean = [median_me_mean, mean_me_mean]\n",
    "\n",
    "x_axis_ticks = [\"Median Income\", \"Mean Income\"]\n",
    "\n",
    "x_axis = np.arange(len(x_axis_ticks))\n",
    "\n",
    "plt.bar(x_axis - 0.2, median, 0.4, label = \"Median MoE\", color=\"steelblue\")\n",
    "plt.bar(x_axis + 0.2, mean, 0.4, label = \"Mean MoE\", color=\"mediumaquamarine\")\n",
    "\n",
    "plt.title(\"Margin of Error: Median Income vs. Mean Income\")\n",
    "plt.xticks(x_axis, x_axis_ticks)\n",
    "plt.xlabel(\"Income Distribution Method\")\n",
    "plt.ylabel(\"Margin of Error\")\n",
    "plt.legend()\n",
    "\n",
    "plt.show()"
   ]
  }
 ],
 "metadata": {
  "kernelspec": {
   "display_name": "base",
   "language": "python",
   "name": "python3"
  },
  "language_info": {
   "codemirror_mode": {
    "name": "ipython",
    "version": 3
   },
   "file_extension": ".py",
   "mimetype": "text/x-python",
   "name": "python",
   "nbconvert_exporter": "python",
   "pygments_lexer": "ipython3",
   "version": "3.10.9"
  },
  "orig_nbformat": 4
 },
 "nbformat": 4,
 "nbformat_minor": 2
}
