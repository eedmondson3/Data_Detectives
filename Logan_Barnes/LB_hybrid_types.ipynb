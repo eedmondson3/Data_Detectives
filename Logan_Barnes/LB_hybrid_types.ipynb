{
 "cells": [
  {
   "attachments": {},
   "cell_type": "markdown",
   "metadata": {},
   "source": [
    "# Are electric car owners in Washington more likely to own a pure electric vehicle or a hybrid electric vehicle?\n"
   ]
  },
  {
   "cell_type": "code",
<<<<<<< HEAD
   "execution_count": 2,
=======
   "execution_count": 5,
>>>>>>> f78e1fb3935f50919cde991c530f247e034168f3
   "metadata": {},
   "outputs": [],
   "source": [
    "import matplotlib.pyplot as plt\n",
    "import pandas as pd"
   ]
  },
  {
   "cell_type": "code",
<<<<<<< HEAD
   "execution_count": 3,
=======
   "execution_count": 6,
>>>>>>> f78e1fb3935f50919cde991c530f247e034168f3
   "metadata": {},
   "outputs": [
    {
     "data": {
      "text/html": [
       "<div>\n",
       "<style scoped>\n",
       "    .dataframe tbody tr th:only-of-type {\n",
       "        vertical-align: middle;\n",
       "    }\n",
       "\n",
       "    .dataframe tbody tr th {\n",
       "        vertical-align: top;\n",
       "    }\n",
       "\n",
       "    .dataframe thead th {\n",
       "        text-align: right;\n",
       "    }\n",
       "</style>\n",
       "<table border=\"1\" class=\"dataframe\">\n",
       "  <thead>\n",
       "    <tr style=\"text-align: right;\">\n",
       "      <th></th>\n",
       "      <th>County</th>\n",
       "      <th>City</th>\n",
       "      <th>State</th>\n",
       "      <th>Postal Code</th>\n",
       "      <th>Model Year</th>\n",
       "      <th>Make</th>\n",
       "      <th>Model</th>\n",
       "      <th>Electric Vehicle Type</th>\n",
       "      <th>Electric Range</th>\n",
       "      <th>Vehicle Location Longitude</th>\n",
       "      <th>Vehicle Location Latitude</th>\n",
       "    </tr>\n",
       "  </thead>\n",
       "  <tbody>\n",
       "    <tr>\n",
       "      <th>0</th>\n",
       "      <td>Yakima</td>\n",
       "      <td>Yakima</td>\n",
       "      <td>WA</td>\n",
       "      <td>98908.0</td>\n",
       "      <td>2020</td>\n",
       "      <td>TESLA</td>\n",
       "      <td>MODEL 3</td>\n",
       "      <td>Battery Electric Vehicle (BEV)</td>\n",
       "      <td>322</td>\n",
       "      <td>-120.56916</td>\n",
       "      <td>46.58514</td>\n",
       "    </tr>\n",
       "    <tr>\n",
       "      <th>1</th>\n",
       "      <td>San Diego</td>\n",
       "      <td>San Diego</td>\n",
       "      <td>CA</td>\n",
       "      <td>92101.0</td>\n",
       "      <td>2019</td>\n",
       "      <td>TESLA</td>\n",
       "      <td>MODEL 3</td>\n",
       "      <td>Battery Electric Vehicle (BEV)</td>\n",
       "      <td>220</td>\n",
       "      <td>-117.16171</td>\n",
       "      <td>32.71568</td>\n",
       "    </tr>\n",
       "    <tr>\n",
       "      <th>2</th>\n",
       "      <td>Lane</td>\n",
       "      <td>Eugene</td>\n",
       "      <td>OR</td>\n",
       "      <td>97404.0</td>\n",
       "      <td>2021</td>\n",
       "      <td>VOLVO</td>\n",
       "      <td>S60</td>\n",
       "      <td>Plug-in Hybrid Electric Vehicle (PHEV)</td>\n",
       "      <td>22</td>\n",
       "      <td>-123.12802</td>\n",
       "      <td>44.09573</td>\n",
       "    </tr>\n",
       "    <tr>\n",
       "      <th>3</th>\n",
       "      <td>Yakima</td>\n",
       "      <td>Yakima</td>\n",
       "      <td>WA</td>\n",
       "      <td>98908.0</td>\n",
       "      <td>2019</td>\n",
       "      <td>TESLA</td>\n",
       "      <td>MODEL X</td>\n",
       "      <td>Battery Electric Vehicle (BEV)</td>\n",
       "      <td>289</td>\n",
       "      <td>-120.56916</td>\n",
       "      <td>46.58514</td>\n",
       "    </tr>\n",
       "    <tr>\n",
       "      <th>4</th>\n",
       "      <td>Snohomish</td>\n",
       "      <td>Bothell</td>\n",
       "      <td>WA</td>\n",
       "      <td>98021.0</td>\n",
       "      <td>2017</td>\n",
       "      <td>BMW</td>\n",
       "      <td>X5</td>\n",
       "      <td>Plug-in Hybrid Electric Vehicle (PHEV)</td>\n",
       "      <td>14</td>\n",
       "      <td>-122.18384</td>\n",
       "      <td>47.80310</td>\n",
       "    </tr>\n",
       "  </tbody>\n",
       "</table>\n",
       "</div>"
      ],
      "text/plain": [
       "      County       City State  Postal Code  Model Year   Make    Model  \\\n",
       "0     Yakima     Yakima    WA      98908.0        2020  TESLA  MODEL 3   \n",
       "1  San Diego  San Diego    CA      92101.0        2019  TESLA  MODEL 3   \n",
       "2       Lane     Eugene    OR      97404.0        2021  VOLVO      S60   \n",
       "3     Yakima     Yakima    WA      98908.0        2019  TESLA  MODEL X   \n",
       "4  Snohomish    Bothell    WA      98021.0        2017    BMW       X5   \n",
       "\n",
       "                    Electric Vehicle Type  Electric Range  \\\n",
       "0          Battery Electric Vehicle (BEV)             322   \n",
       "1          Battery Electric Vehicle (BEV)             220   \n",
       "2  Plug-in Hybrid Electric Vehicle (PHEV)              22   \n",
       "3          Battery Electric Vehicle (BEV)             289   \n",
       "4  Plug-in Hybrid Electric Vehicle (PHEV)              14   \n",
       "\n",
       "   Vehicle Location Longitude  Vehicle Location Latitude  \n",
       "0                  -120.56916                   46.58514  \n",
       "1                  -117.16171                   32.71568  \n",
       "2                  -123.12802                   44.09573  \n",
       "3                  -120.56916                   46.58514  \n",
       "4                  -122.18384                   47.80310  "
      ]
     },
<<<<<<< HEAD
     "execution_count": 3,
=======
     "execution_count": 6,
>>>>>>> f78e1fb3935f50919cde991c530f247e034168f3
     "metadata": {},
     "output_type": "execute_result"
    }
   ],
   "source": [
    "#load cleaned data frame from csv\n",
    "cleaned_ev_file = EV_file = \"../Cleaned_Data_Sets/Cleaned_EV_Data.csv\"\n",
    "cleaned_ev_df = pd.read_csv(cleaned_ev_file)\n",
    "cleaned_ev_df.head()"
   ]
  },
  {
   "cell_type": "code",
<<<<<<< HEAD
   "execution_count": 4,
=======
   "execution_count": 7,
>>>>>>> f78e1fb3935f50919cde991c530f247e034168f3
   "metadata": {},
   "outputs": [
    {
     "data": {
      "text/html": [
       "<div>\n",
       "<style scoped>\n",
       "    .dataframe tbody tr th:only-of-type {\n",
       "        vertical-align: middle;\n",
       "    }\n",
       "\n",
       "    .dataframe tbody tr th {\n",
       "        vertical-align: top;\n",
       "    }\n",
       "\n",
       "    .dataframe thead th {\n",
       "        text-align: right;\n",
       "    }\n",
       "</style>\n",
       "<table border=\"1\" class=\"dataframe\">\n",
       "  <thead>\n",
       "    <tr style=\"text-align: right;\">\n",
       "      <th></th>\n",
       "      <th>County</th>\n",
       "      <th>City</th>\n",
       "      <th>State</th>\n",
       "      <th>Postal Code</th>\n",
       "      <th>Model Year</th>\n",
       "      <th>Make</th>\n",
       "      <th>Model</th>\n",
       "      <th>Electric Vehicle Type</th>\n",
       "      <th>Electric Range</th>\n",
       "      <th>Vehicle Location Longitude</th>\n",
       "      <th>Vehicle Location Latitude</th>\n",
       "    </tr>\n",
       "  </thead>\n",
       "  <tbody>\n",
       "    <tr>\n",
       "      <th>0</th>\n",
       "      <td>Yakima</td>\n",
       "      <td>Yakima</td>\n",
       "      <td>WA</td>\n",
       "      <td>98908.0</td>\n",
       "      <td>2020</td>\n",
       "      <td>TESLA</td>\n",
       "      <td>MODEL 3</td>\n",
       "      <td>Battery Electric Vehicle (BEV)</td>\n",
       "      <td>322</td>\n",
       "      <td>-120.56916</td>\n",
       "      <td>46.58514</td>\n",
       "    </tr>\n",
       "    <tr>\n",
       "      <th>3</th>\n",
       "      <td>Yakima</td>\n",
       "      <td>Yakima</td>\n",
       "      <td>WA</td>\n",
       "      <td>98908.0</td>\n",
       "      <td>2019</td>\n",
       "      <td>TESLA</td>\n",
       "      <td>MODEL X</td>\n",
       "      <td>Battery Electric Vehicle (BEV)</td>\n",
       "      <td>289</td>\n",
       "      <td>-120.56916</td>\n",
       "      <td>46.58514</td>\n",
       "    </tr>\n",
       "    <tr>\n",
       "      <th>4</th>\n",
       "      <td>Snohomish</td>\n",
       "      <td>Bothell</td>\n",
       "      <td>WA</td>\n",
       "      <td>98021.0</td>\n",
       "      <td>2017</td>\n",
       "      <td>BMW</td>\n",
       "      <td>X5</td>\n",
       "      <td>Plug-in Hybrid Electric Vehicle (PHEV)</td>\n",
       "      <td>14</td>\n",
       "      <td>-122.18384</td>\n",
       "      <td>47.80310</td>\n",
       "    </tr>\n",
       "    <tr>\n",
       "      <th>5</th>\n",
       "      <td>Snohomish</td>\n",
       "      <td>Everett</td>\n",
       "      <td>WA</td>\n",
       "      <td>98201.0</td>\n",
       "      <td>2015</td>\n",
       "      <td>NISSAN</td>\n",
       "      <td>LEAF</td>\n",
       "      <td>Battery Electric Vehicle (BEV)</td>\n",
       "      <td>84</td>\n",
       "      <td>-122.20596</td>\n",
       "      <td>47.97659</td>\n",
       "    </tr>\n",
       "    <tr>\n",
       "      <th>6</th>\n",
       "      <td>Kitsap</td>\n",
       "      <td>Poulsbo</td>\n",
       "      <td>WA</td>\n",
       "      <td>98370.0</td>\n",
       "      <td>2018</td>\n",
       "      <td>TESLA</td>\n",
       "      <td>MODEL 3</td>\n",
       "      <td>Battery Electric Vehicle (BEV)</td>\n",
       "      <td>215</td>\n",
       "      <td>-122.64681</td>\n",
       "      <td>47.73689</td>\n",
       "    </tr>\n",
       "  </tbody>\n",
       "</table>\n",
       "</div>"
      ],
      "text/plain": [
       "      County     City State  Postal Code  Model Year    Make    Model  \\\n",
       "0     Yakima   Yakima    WA      98908.0        2020   TESLA  MODEL 3   \n",
       "3     Yakima   Yakima    WA      98908.0        2019   TESLA  MODEL X   \n",
       "4  Snohomish  Bothell    WA      98021.0        2017     BMW       X5   \n",
       "5  Snohomish  Everett    WA      98201.0        2015  NISSAN     LEAF   \n",
       "6     Kitsap  Poulsbo    WA      98370.0        2018   TESLA  MODEL 3   \n",
       "\n",
       "                    Electric Vehicle Type  Electric Range  \\\n",
       "0          Battery Electric Vehicle (BEV)             322   \n",
       "3          Battery Electric Vehicle (BEV)             289   \n",
       "4  Plug-in Hybrid Electric Vehicle (PHEV)              14   \n",
       "5          Battery Electric Vehicle (BEV)              84   \n",
       "6          Battery Electric Vehicle (BEV)             215   \n",
       "\n",
       "   Vehicle Location Longitude  Vehicle Location Latitude  \n",
       "0                  -120.56916                   46.58514  \n",
       "3                  -120.56916                   46.58514  \n",
       "4                  -122.18384                   47.80310  \n",
       "5                  -122.20596                   47.97659  \n",
       "6                  -122.64681                   47.73689  "
      ]
     },
<<<<<<< HEAD
     "execution_count": 4,
=======
     "execution_count": 7,
>>>>>>> f78e1fb3935f50919cde991c530f247e034168f3
     "metadata": {},
     "output_type": "execute_result"
    }
   ],
   "source": [
    "washington_df = cleaned_ev_df.loc[cleaned_ev_df[\"State\"]== \"WA\"]\n",
    "washington_df.head()"
   ]
  },
  {
   "cell_type": "code",
<<<<<<< HEAD
   "execution_count": 5,
=======
   "execution_count": 8,
>>>>>>> f78e1fb3935f50919cde991c530f247e034168f3
   "metadata": {},
   "outputs": [
    {
     "data": {
      "text/plain": [
       "Electric Vehicle Type\n",
       "Battery Electric Vehicle (BEV)            96056\n",
       "Plug-in Hybrid Electric Vehicle (PHEV)    28339\n",
       "Name: Electric Vehicle Type, dtype: int64"
      ]
     },
<<<<<<< HEAD
     "execution_count": 5,
=======
     "execution_count": 8,
>>>>>>> f78e1fb3935f50919cde991c530f247e034168f3
     "metadata": {},
     "output_type": "execute_result"
    }
   ],
   "source": [
    "ev_type = washington_df.groupby('Electric Vehicle Type')\n",
    "\n",
    "count_ev_types = ev_type['Electric Vehicle Type'].count()\n",
    "\n",
    "count_ev_types\n"
   ]
  },
  {
   "cell_type": "code",
<<<<<<< HEAD
   "execution_count": 7,
=======
   "execution_count": 9,
>>>>>>> f78e1fb3935f50919cde991c530f247e034168f3
   "metadata": {},
   "outputs": [
    {
     "data": {
      "text/plain": [
       "<Axes: xlabel='Number of Vehicles', ylabel='Electric Vehicle Type'>"
      ]
     },
<<<<<<< HEAD
     "execution_count": 7,
=======
     "execution_count": 9,
>>>>>>> f78e1fb3935f50919cde991c530f247e034168f3
     "metadata": {},
     "output_type": "execute_result"
    },
    {
     "data": {
<<<<<<< HEAD
      "image/png": "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",
=======
      "image/png": "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",
>>>>>>> f78e1fb3935f50919cde991c530f247e034168f3
      "text/plain": [
       "<Figure size 640x480 with 1 Axes>"
      ]
     },
     "metadata": {},
     "output_type": "display_data"
    }
   ],
   "source": [
    "ev_type_chart = count_ev_types.plot(kind='barh',alpha=0.75, rot=0, color = \"#ccca69\")\n",
    "ev_type_chart.set_xlabel(\"Number of Vehicles\")\n",
    "plt.gca().invert_yaxis()\n",
    "plt.savefig(\"../Images/BEV_vs_PHEV_bar.png\")\n",
    "ev_type_chart\n"
   ]
  }
 ],
 "metadata": {
  "kernelspec": {
   "display_name": "base",
   "language": "python",
   "name": "python3"
  },
  "language_info": {
   "codemirror_mode": {
    "name": "ipython",
    "version": 3
   },
   "file_extension": ".py",
   "mimetype": "text/x-python",
   "name": "python",
   "nbconvert_exporter": "python",
   "pygments_lexer": "ipython3",
   "version": "3.9.13"
  },
  "orig_nbformat": 4
 },
 "nbformat": 4,
 "nbformat_minor": 2
}
